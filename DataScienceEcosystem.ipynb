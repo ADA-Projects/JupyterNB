{
 "cells": [
  {
   "cell_type": "markdown",
   "id": "a91a7659-9c26-4af0-99de-ef527d76c48f",
   "metadata": {
    "tags": []
   },
   "source": [
    "# Data Science Tools and Ecosystem"
   ]
  },
  {
   "cell_type": "markdown",
   "id": "6fc6616e-bf81-4a9f-ae07-46d46cf41a1b",
   "metadata": {},
   "source": [
    "In this notebook, Data Science Tools and Ecosystem are summarized."
   ]
  },
  {
   "cell_type": "markdown",
   "id": "b2eff91b-1e2a-4e69-91cf-a85c44149e36",
   "metadata": {},
   "source": [
    "**Objectives:**\n",
    "- List popular languages of Data Science\n",
    "- List popular libraries used in Data Science\n",
    "- Make a table of popular Data Science tools"
   ]
  },
  {
   "cell_type": "markdown",
   "id": "fff103eb-2618-41d2-8e95-fbac051a3842",
   "metadata": {},
   "source": [
    "Some of the popular languages that Data Scientists use are:"
   ]
  },
  {
   "cell_type": "markdown",
   "id": "f89913b6-af10-44c0-b02d-1b5b2759a3c8",
   "metadata": {},
   "source": [
    "1. Python\n",
    "2. R\n",
    "3. SQL"
   ]
  },
  {
   "cell_type": "markdown",
   "id": "de167b13-9be3-459c-a290-e748eb7a7469",
   "metadata": {},
   "source": [
    "Some of the commonly used libraries used by Data Scientists include:"
   ]
  },
  {
   "cell_type": "markdown",
   "id": "eb4368a9-8d16-4850-8c8f-d2ac2c615048",
   "metadata": {},
   "source": [
    "1. Pandas\n",
    "2. Matplotlib\n",
    "3. Scikit-learn"
   ]
  },
  {
   "cell_type": "markdown",
   "id": "f2ab8e75-f139-4e82-a8bc-a1f620010019",
   "metadata": {},
   "source": [
    "|Data Science Tools|\n",
    "--------------------\n",
    "|Jupyter Notebook|\n",
    "|RStudio|\n",
    "|Spyder|"
   ]
  },
  {
   "cell_type": "markdown",
   "id": "68d9a8ab-e588-42ee-93e1-fbcca492f860",
   "metadata": {},
   "source": [
    "### Below are a few examples of evaluating arithmetic expressions in Python:"
   ]
  },
  {
   "cell_type": "code",
   "execution_count": 2,
   "id": "fe84579e-094d-414f-a0fd-19486f2e0ab5",
   "metadata": {
    "tags": []
   },
   "outputs": [
    {
     "data": {
      "text/plain": [
       "17"
      ]
     },
     "execution_count": 2,
     "metadata": {},
     "output_type": "execute_result"
    }
   ],
   "source": [
    "# This a simple arithmetic expression to mutiply then add integers\n",
    "(3*4)+5"
   ]
  },
  {
   "cell_type": "code",
   "execution_count": 3,
   "id": "6eead8d0-a43b-4e3e-9df2-96692d77aa70",
   "metadata": {
    "tags": []
   },
   "outputs": [
    {
     "data": {
      "text/plain": [
       "3.3333333333333335"
      ]
     },
     "execution_count": 3,
     "metadata": {},
     "output_type": "execute_result"
    }
   ],
   "source": [
    "# This will convert 200 minutes to hours by diving by 60\n",
    "200/60"
   ]
  },
  {
   "cell_type": "markdown",
   "id": "4c676872-ff01-4cd4-ab4e-e189ec0f6761",
   "metadata": {},
   "source": [
    "## Author:\n",
    "Alessandro D'Angelo"
   ]
  },
  {
   "cell_type": "code",
   "execution_count": null,
   "id": "171f8239-dc04-40c3-abe5-759b2a34dd6c",
   "metadata": {},
   "outputs": [],
   "source": []
  }
 ],
 "metadata": {
  "kernelspec": {
   "display_name": "Python",
   "language": "python",
   "name": "conda-env-python-py"
  },
  "language_info": {
   "codemirror_mode": {
    "name": "ipython",
    "version": 3
   },
   "file_extension": ".py",
   "mimetype": "text/x-python",
   "name": "python",
   "nbconvert_exporter": "python",
   "pygments_lexer": "ipython3",
   "version": "3.7.12"
  }
 },
 "nbformat": 4,
 "nbformat_minor": 5
}
